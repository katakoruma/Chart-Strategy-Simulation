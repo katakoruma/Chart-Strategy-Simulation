{
 "cells": [
  {
   "cell_type": "code",
   "execution_count": null,
   "metadata": {},
   "outputs": [],
   "source": [
    "import numpy as np\n",
    "import matplotlib.pyplot as plt \n",
    "from performance_simulation import *"
   ]
  },
  {
   "cell_type": "code",
   "execution_count": null,
   "metadata": {},
   "outputs": [],
   "source": [
    "#General parameters\n",
    "years = 15\n",
    "time = int(261 * years)\n",
    "\n",
    "\n",
    "#Import parameters\n",
    "n = int(261 * np.random.uniform(0, 45))\n",
    "#n = int(261 * 21)\n",
    "path = \"data/msci_complete.csv\"\n",
    "limit = slice(n, time+n)\n",
    "\n",
    "\n",
    "#Trade parameters\n",
    "trades = 10 * years\n",
    "max_trades = 20 * years\n",
    "hold_time = [30,5,5,0]\n",
    "time_after_reversel = 0\n",
    "smooth_period = 20\n",
    "\n",
    "trade_cost = [2,0]\n",
    "spread = 0.002\n",
    "asset_cost = 0.001\n",
    "tax_rate = 0.25\n",
    "tax_allowance = 1000\n",
    "\n",
    "\n",
    "initial_investment = 5000\n",
    "saving_plan_period = 22\n",
    "#saving_plan = {12*i+1: 500 * 1.0**(i*12) for i in range(0,years)}\n",
    "saving_plan = 500\n",
    "\n",
    "\n",
    "chim =  ChartImport(  initial_investment=initial_investment, saving_plan=saving_plan, saving_plan_period=saving_plan_period, time=time, \n",
    "                      trades=trades, max_trades=max_trades, hold_time=hold_time, time_after_reversel=time_after_reversel, smooth_period=smooth_period, \n",
    "                      trade_cost=trade_cost, spread=spread, asset_cost=asset_cost, tax_rate=tax_rate, tax_allowance=tax_allowance\n",
    "                      )\n",
    "\n",
    "performance, dates = chim.load_data(path=path, limit=limit)\n",
    "\n",
    "buy_and_hold_performance = chim.buy_and_hold()[0]\n",
    "random_swing_performance = chim.random_swing_trade()[0]\n",
    "swing_performance = chim.swing_trade()[0]\n"
   ]
  },
  {
   "cell_type": "code",
   "execution_count": null,
   "metadata": {},
   "outputs": [],
   "source": [
    "plt.plot(dates, chim.performance/chim.initial_investment, label=\"Performance\")\n",
    "plt.plot(dates, chim.buy_and_hold_ttwror, label=\"Buy and hold\")\n",
    "plt.plot(dates, chim.swing_trade_ttwror, label=\"Swing trade\")\n",
    "plt.plot(dates, chim.random_swing_ttwror, label=\"Random swing trade\")\n",
    "#plt.axhline(1, color=\"black\", linestyle=\"--\")   \n",
    "\n",
    "plt.xlabel(\"Time\")\n",
    "plt.ylabel(\"Percentage\")\n",
    "plt.title(\"True Time Weighted Rate of Return (TTWROR)\")\n",
    "\n",
    "plt.grid()\n",
    "plt.legend()\n",
    "\n",
    "plt.show()"
   ]
  },
  {
   "cell_type": "code",
   "execution_count": null,
   "metadata": {},
   "outputs": [],
   "source": [
    "plt.plot(dates, chim.performance, label=\"Index\")\n",
    "plt.plot(dates, chim.investet_over_time, label=\"Investment over time\")\n",
    "plt.plot(dates, chim.buy_and_hold_performance, label=\"Buy and hold\")\n",
    "plt.plot(dates, chim.swing_trade_performance, label=\"Swing trade\")\n",
    "plt.plot(dates, chim.random_swing_performance, label=\"Random swing trade\")\n",
    "#plt.axhline(1, color=\"black\", linestyle=\"--\")   \n",
    "\n",
    "plt.xlabel(\"Time\")\n",
    "plt.ylabel(\"Performance\")\n",
    "\n",
    "plt.grid()\n",
    "plt.legend()\n",
    "\n",
    "plt.yscale(\"log\")\n",
    "\n",
    "plt.show()\n",
    "\n",
    "#chim.print_parameters()\n",
    "chim.print_results(accuracy=1)\n",
    "#chim.plot_performance()"
   ]
  },
  {
   "cell_type": "code",
   "execution_count": null,
   "metadata": {},
   "outputs": [],
   "source": [
    "mc = MonteCarloSimulation(chartimp=chim, parallel=True)\n",
    "_ = mc.mc_import_chart(n=2000, stepsize=2, path=path, limit=limit)\n",
    "\n",
    "# mc.hist_performance(limits=None, bins=30)"
   ]
  },
  {
   "cell_type": "code",
   "execution_count": null,
   "metadata": {},
   "outputs": [],
   "source": [
    "bins=30\n",
    "limits=None\n",
    "\n",
    "plt.hist(mc.index_profit, bins=bins, range=limits, alpha=0.5, label=\"Index Profit\")\n",
    "plt.hist(mc.buy_and_hold_profit, bins=bins, range=limits, alpha=0.5, label=\"Buy and Hold Profit\")\n",
    "plt.hist(mc.swing_trade_profit, bins=bins, range=limits, alpha=0.5, label=\"Swing Trade Profit\")\n",
    "plt.hist(mc.random_swing_profit, bins=bins, range=limits, alpha=0.5, label=\"Random swing trade Profit\")\n",
    "\n",
    "plt.xlabel(\"Profit\")\n",
    "plt.ylabel(\"Frequency\")\n",
    "plt.title(\"Profit Distribution\")\n",
    "\n",
    "plt.grid()\n",
    "plt.legend()\n",
    "plt.show()\n",
    "\n",
    "mc.print_results(accuracy=1)"
   ]
  },
  {
   "cell_type": "code",
   "execution_count": null,
   "metadata": {},
   "outputs": [],
   "source": []
  }
 ],
 "metadata": {
  "kernelspec": {
   "display_name": "ml1",
   "language": "python",
   "name": "python3"
  },
  "language_info": {
   "codemirror_mode": {
    "name": "ipython",
    "version": 3
   },
   "file_extension": ".py",
   "mimetype": "text/x-python",
   "name": "python",
   "nbconvert_exporter": "python",
   "pygments_lexer": "ipython3",
   "version": "3.12.7"
  }
 },
 "nbformat": 4,
 "nbformat_minor": 2
}
