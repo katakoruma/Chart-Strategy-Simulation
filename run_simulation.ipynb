{
 "cells": [
  {
   "cell_type": "code",
   "execution_count": null,
   "metadata": {},
   "outputs": [],
   "source": [
    "import numpy as np\n",
    "import matplotlib.pyplot as plt \n",
    "from performance_simulation import *"
   ]
  },
  {
   "cell_type": "code",
   "execution_count": null,
   "metadata": {},
   "outputs": [],
   "source": [
    "#General parameters\n",
    "years = 16\n",
    "dt = 15\n",
    "time = int(261 * years)\n",
    "\n",
    "#Simulation parameters\n",
    "yearly_return = 1.07\n",
    "\n",
    "daily_return = 1.001\n",
    "daily_loss = 1 - 0.01\n",
    "\n",
    "gain_phase = 0.7\n",
    "loss_phase = 1 - gain_phase\n",
    "\n",
    "mode = \"fixed_gain_phase\"\n",
    "#mode = \"fixed_return\"\n",
    " \n",
    "\n",
    "#Tade parameters\n",
    "trades = 12 * years\n",
    "max_trades = 20 * years\n",
    "hold_time = 20\n",
    "time_after_reversel = 0\n",
    "smooth_period = 20\n",
    "\n",
    "trade_coast = 1\n",
    "spread = 0.002\n",
    "tax_rate = 0.025\n",
    "tax_allowance = 1000\n",
    "\n",
    "initial_investment = 5000\n",
    "saving_plan_period = 22\n",
    "saving_plan = {12*i: 500 * 1.02**(i*12) for i in range(0,years)}\n",
    "\n",
    "\n",
    "sim = ChartSimulation(yearly_return=yearly_return, daily_return=daily_return, daily_loss=daily_loss, gain_phase=gain_phase, loss_phase=loss_phase, mode=mode, \n",
    "                      initial_investment=initial_investment, saving_plan=saving_plan, saving_plan_period=saving_plan_period,  dt=dt, time=time, \n",
    "                      trades=trades, max_trades=max_trades, hold_time=hold_time, time_after_reversel=time_after_reversel, smooth_period=smooth_period, trade_coast=trade_coast, spread=spread, tax_rate=tax_rate, tax_allowance=tax_allowance\n",
    "                      )\n",
    "\n",
    "performance, phase = sim.simulate_performance()\n",
    "\n",
    "buy_and_hold_performance = sim.buy_and_hold(set='simulation')[0]\n",
    "random_swing_performance_analyse = sim.random_swing_trade_ana(set='simulation')[0]\n",
    "swing_performance_analyse = sim.swing_trade_ana(set='simulation')[0]"
   ]
  },
  {
   "cell_type": "code",
   "execution_count": null,
   "metadata": {},
   "outputs": [],
   "source": [
    "plt.plot(performance, label=\"Simulation\")\n",
    "plt.plot(buy_and_hold_performance, label=\"Buy and hold\")\n",
    "plt.plot(swing_performance_analyse, label=\"Swing trade\")\n",
    "#plt.plot(random_swing_performance_analyse, label=\"Random swing trade\")\n",
    "#plt.axhline(1, color=\"black\", linestyle=\"--\")   \n",
    "\n",
    "plt.xlabel(\"Time\")\n",
    "plt.ylabel(\"Performance\")\n",
    "\n",
    "plt.grid()\n",
    "plt.legend()\n",
    "\n",
    "plt.yscale(\"log\")\n",
    "\n",
    "plt.show()\n",
    "\n",
    "\n",
    "#sim.print_parameters()\n",
    "sim.print_results(accuracy=3)\n",
    "#sim.plot_performance()"
   ]
  },
  {
   "cell_type": "code",
   "execution_count": null,
   "metadata": {},
   "outputs": [],
   "source": [
    "mc = MonteCarloSimulation(chartsim=sim, parallel=True)\n",
    "_ = mc.mc_artificial_chart(n=500)\n",
    "\n",
    "# mc.hist_performance(bins=30)"
   ]
  },
  {
   "cell_type": "code",
   "execution_count": null,
   "metadata": {},
   "outputs": [],
   "source": [
    "\n",
    "\n",
    "bins=30\n",
    "limits=None\n",
    "\n",
    "#plt.hist(mc.index_performance, bins=bins, range=limits, alpha=0.5, label=\"Index Performance\")\n",
    "plt.hist(mc.buy_and_hold_profit, bins=bins, range=limits, alpha=0.5, label=\"Buy and hold performance\")\n",
    "plt.hist(mc.swing_profit, bins=bins, range=limits, alpha=0.5, label=\"Swing trade\")\n",
    "#plt.hist(mc.random_swing_profit, bins=bins, range=limits, alpha=0.5, label=\"Random swing trade\")\n",
    "\n",
    "plt.xlabel(\"Performance\")\n",
    "plt.ylabel(\"Frequency\")\n",
    "plt.title(\"Performance distribution\")\n",
    "\n",
    "plt.grid()\n",
    "plt.legend()\n",
    "plt.show()\n",
    "\n",
    "mc.print_results(accuracy=3)"
   ]
  },
  {
   "cell_type": "code",
   "execution_count": null,
   "metadata": {},
   "outputs": [],
   "source": []
  }
 ],
 "metadata": {
  "kernelspec": {
   "display_name": "ml1",
   "language": "python",
   "name": "python3"
  },
  "language_info": {
   "codemirror_mode": {
    "name": "ipython",
    "version": 3
   },
   "file_extension": ".py",
   "mimetype": "text/x-python",
   "name": "python",
   "nbconvert_exporter": "python",
   "pygments_lexer": "ipython3",
   "version": "3.12.7"
  }
 },
 "nbformat": 4,
 "nbformat_minor": 2
}
