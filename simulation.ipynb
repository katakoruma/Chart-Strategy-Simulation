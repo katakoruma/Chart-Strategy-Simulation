{
 "cells": [
  {
   "cell_type": "code",
   "execution_count": 1,
   "metadata": {},
   "outputs": [],
   "source": [
    "import numpy as np\n",
    "import matplotlib.pyplot as plt \n",
    "from performance_simulation import *"
   ]
  },
  {
   "cell_type": "code",
   "execution_count": 2,
   "metadata": {},
   "outputs": [
    {
     "name": "stderr",
     "output_type": "stream",
     "text": [
      "100%|██████████| 1000/1000 [00:10<00:00, 97.04it/s]\n"
     ]
    },
    {
     "data": {
      "text/plain": [
       "(array([[1.        , 1.00064828, 1.00129698, ..., 1.08860531, 1.08790005,\n",
       "         1.08719524],\n",
       "        [1.        , 1.00064828, 1.00129698, ..., 1.05253089, 1.05321323,\n",
       "         1.05389601],\n",
       "        [1.        , 1.00064828, 1.00129698, ..., 1.13765167, 1.13838919,\n",
       "         1.13912718],\n",
       "        ...,\n",
       "        [1.        , 1.00064828, 1.00129698, ..., 1.05253089, 1.05321323,\n",
       "         1.05389601],\n",
       "        [1.        , 0.99935214, 0.9987047 , ..., 1.05253089, 1.05321323,\n",
       "         1.05389601],\n",
       "        [1.        , 1.00064828, 1.00129698, ..., 1.05253089, 1.05321323,\n",
       "         1.05389601]]),\n",
       " array([[1.        , 1.        , 1.        , ..., 1.0634745 , 1.0634745 ,\n",
       "         1.0634745 ],\n",
       "        [1.        , 1.        , 1.        , ..., 1.03691287, 1.03758486,\n",
       "         1.03758486],\n",
       "        [1.        , 1.        , 1.        , ..., 1.08575167, 1.08575167,\n",
       "         1.08575167],\n",
       "        ...,\n",
       "        [1.        , 1.        , 1.        , ..., 1.03291086, 1.03291086,\n",
       "         1.03291086],\n",
       "        [1.        , 1.        , 1.        , ..., 1.0504486 , 1.0504486 ,\n",
       "         1.0504486 ],\n",
       "        [1.        , 1.        , 1.        , ..., 1.02225708, 1.02225708,\n",
       "         1.02225708]]),\n",
       " array([[1.        , 1.        , 1.        , ..., 1.09634652, 1.09634652,\n",
       "         1.09634652],\n",
       "        [1.        , 1.        , 1.        , ..., 1.08574848, 1.08645212,\n",
       "         1.08715622],\n",
       "        [1.        , 1.        , 1.        , ..., 1.13539003, 1.13612584,\n",
       "         1.13612584],\n",
       "        ...,\n",
       "        [1.        , 1.        , 1.        , ..., 1.08645212, 1.08715622,\n",
       "         1.08786077],\n",
       "        [1.        , 1.        , 1.        , ..., 1.07873163, 1.07943072,\n",
       "         1.08013027],\n",
       "        [1.        , 1.        , 1.        , ..., 1.08434165, 1.08504438,\n",
       "         1.08574756]]))"
      ]
     },
     "execution_count": 2,
     "metadata": {},
     "output_type": "execute_result"
    }
   ],
   "source": [
    "mc = MonteCarloSimulation()\n",
    "mc.mc_artificial_chart()"
   ]
  },
  {
   "cell_type": "code",
   "execution_count": 3,
   "metadata": {},
   "outputs": [
    {
     "data": {
      "image/png": "[encoded data removed]",
      "text/plain": [
       "<Figure size 640x480 with 1 Axes>"
      ]
     },
     "metadata": {},
     "output_type": "display_data"
    },
    {
     "name": "stdout",
     "output_type": "stream",
     "text": [
      "Buy and hold return: 1.071 +/- 0.04\n",
      "Random swing trade return: 1.031 +/- 0.025\n",
      "Swing trade return: 1.094 +/- 0.024\n"
     ]
    }
   ],
   "source": [
    "mc.hist_performance(bins=15)\n",
    "mc.print_results(accuracy=3)"
   ]
  },
  {
   "cell_type": "code",
   "execution_count": 4,
   "metadata": {},
   "outputs": [
    {
     "data": {
      "text/plain": [
       "array([[1.        , 1.00064828, 1.00129698, ..., 1.08860531, 1.08790005,\n",
       "        1.08719524],\n",
       "       [1.        , 1.00064828, 1.00129698, ..., 1.05253089, 1.05321323,\n",
       "        1.05389601],\n",
       "       [1.        , 1.00064828, 1.00129698, ..., 1.13765167, 1.13838919,\n",
       "        1.13912718],\n",
       "       ...,\n",
       "       [1.        , 1.00064828, 1.00129698, ..., 1.05253089, 1.05321323,\n",
       "        1.05389601],\n",
       "       [1.        , 0.99935214, 0.9987047 , ..., 1.05253089, 1.05321323,\n",
       "        1.05389601],\n",
       "       [1.        , 1.00064828, 1.00129698, ..., 1.05253089, 1.05321323,\n",
       "        1.05389601]])"
      ]
     },
     "execution_count": 4,
     "metadata": {},
     "output_type": "execute_result"
    }
   ],
   "source": [
    "mc.performance"
   ]
  },
  {
   "cell_type": "code",
   "execution_count": null,
   "metadata": {},
   "outputs": [],
   "source": []
  }
 ],
 "metadata": {
  "kernelspec": {
   "display_name": "base",
   "language": "python",
   "name": "python3"
  },
  "language_info": {
   "codemirror_mode": {
    "name": "ipython",
    "version": 3
   },
   "file_extension": ".py",
   "mimetype": "text/x-python",
   "name": "python",
   "nbconvert_exporter": "python",
   "pygments_lexer": "ipython3",
   "version": "3.12.2"
  }
 },
 "nbformat": 4,
 "nbformat_minor": 2
}
